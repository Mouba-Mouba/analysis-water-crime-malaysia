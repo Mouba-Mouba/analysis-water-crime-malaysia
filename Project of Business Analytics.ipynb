{
 "cells": [
  {
   "cell_type": "markdown",
   "metadata": {},
   "source": [
    "# **Project of Business Analytics**"
   ]
  },
  {
   "cell_type": "markdown",
   "metadata": {},
   "source": [
    "## Importorting the necessary libarbraries"
   ]
  },
  {
   "cell_type": "code",
   "execution_count": 20,
   "metadata": {},
   "outputs": [],
   "source": [
    "import pandas as pd\n",
    "from geopy.geocoders import Nominatim\n",
    "from time import sleep"
   ]
  },
  {
   "cell_type": "markdown",
   "metadata": {},
   "source": [
    "## Collecting the data"
   ]
  },
  {
   "cell_type": "markdown",
   "metadata": {},
   "source": [
    "### Water Consumption Data"
   ]
  },
  {
   "cell_type": "code",
   "execution_count": 2,
   "metadata": {},
   "outputs": [
    {
     "name": "stdout",
     "output_type": "stream",
     "text": [
      "           state       sector       date  value\n",
      "0       Malaysia     domestic 2003-01-01   4394\n",
      "1       Malaysia     domestic 2004-01-01   4770\n",
      "2       Malaysia     domestic 2005-01-01   4992\n",
      "3       Malaysia     domestic 2006-01-01   5025\n",
      "4       Malaysia     domestic 2007-01-01   5381\n",
      "..           ...          ...        ...    ...\n",
      "595  W.P. Labuan  nondomestic 2018-01-01     33\n",
      "596  W.P. Labuan  nondomestic 2019-01-01     36\n",
      "597  W.P. Labuan  nondomestic 2020-01-01     40\n",
      "598  W.P. Labuan  nondomestic 2021-01-01     32\n",
      "599  W.P. Labuan  nondomestic 2022-01-01     33\n",
      "\n",
      "[600 rows x 4 columns]\n"
     ]
    }
   ],
   "source": [
    "# Collect the data using water_consumption data link\n",
    "\n",
    "URL_DATA = 'https://storage.data.gov.my/water/water_consumption.parquet'\n",
    "\n",
    "water_data = pd.read_parquet(URL_DATA)\n",
    "if 'date' in water_data.columns: water_data['date'] = pd.to_datetime(water_data['date'])\n",
    "\n",
    "print(water_data)"
   ]
  },
  {
   "cell_type": "markdown",
   "metadata": {},
   "source": [
    "### Crime Data"
   ]
  },
  {
   "cell_type": "code",
   "execution_count": 3,
   "metadata": {},
   "outputs": [
    {
     "name": "stdout",
     "output_type": "stream",
     "text": [
      "                   state     district  category                      type   \n",
      "0               Malaysia          All   assault                       all  \\\n",
      "1               Malaysia          All   assault                       all   \n",
      "2               Malaysia          All   assault                       all   \n",
      "3               Malaysia          All   assault                       all   \n",
      "4               Malaysia          All   assault                       all   \n",
      "...                  ...          ...       ...                       ...   \n",
      "19147  W.P. Kuala Lumpur  Wangsa Maju  property  theft_vehicle_motorcycle   \n",
      "19148  W.P. Kuala Lumpur  Wangsa Maju  property  theft_vehicle_motorcycle   \n",
      "19149  W.P. Kuala Lumpur  Wangsa Maju  property  theft_vehicle_motorcycle   \n",
      "19150  W.P. Kuala Lumpur  Wangsa Maju  property  theft_vehicle_motorcycle   \n",
      "19151  W.P. Kuala Lumpur  Wangsa Maju  property  theft_vehicle_motorcycle   \n",
      "\n",
      "            date  crimes  \n",
      "0     2016-01-01   22327  \n",
      "1     2017-01-01   21366  \n",
      "2     2018-01-01   16902  \n",
      "3     2019-01-01   16489  \n",
      "4     2020-01-01   13279  \n",
      "...          ...     ...  \n",
      "19147 2019-01-01     755  \n",
      "19148 2020-01-01     646  \n",
      "19149 2021-01-01     403  \n",
      "19150 2022-01-01     369  \n",
      "19151 2023-01-01     358  \n",
      "\n",
      "[19152 rows x 6 columns]\n"
     ]
    }
   ],
   "source": [
    "# Collect the data using crime_district data link\n",
    "\n",
    "URL_DATA = 'https://storage.data.gov.my/publicsafety/crime_district.parquet'\n",
    "\n",
    "crime_data = pd.read_parquet(URL_DATA)\n",
    "if 'date' in crime_data.columns: crime_data['date'] = pd.to_datetime(crime_data['date'])\n",
    "\n",
    "print(crime_data)"
   ]
  },
  {
   "cell_type": "markdown",
   "metadata": {},
   "source": [
    "## Merge Water Consumption Data with Crime Data"
   ]
  },
  {
   "cell_type": "code",
   "execution_count": 4,
   "metadata": {},
   "outputs": [],
   "source": [
    "# Extract year from date column\n",
    "water_data[\"year\"] = pd.to_datetime(water_data[\"date\"]).dt.year\n",
    "crime_data[\"year\"] = pd.to_datetime(crime_data[\"date\"]).dt.year"
   ]
  },
  {
   "cell_type": "code",
   "execution_count": 14,
   "metadata": {},
   "outputs": [],
   "source": [
    "# Aggregate crime data at state level\n",
    "crime_data_agg = crime_data.groupby([\"state\", \"year\", \"category\", \"type\"]).agg({\"crimes\": \"sum\"}).reset_index()\n",
    "\n",
    "# Merge datasets on state and year, keeping relevant columns\n",
    "merged_data = pd.merge(\n",
    "    crime_data_agg,\n",
    "    water_data[[\"state\", \"sector\", \"year\", \"value\"]],\n",
    "    on=[\"state\", \"year\"],\n",
    "    how=\"inner\"\n",
    ")"
   ]
  },
  {
   "cell_type": "code",
   "execution_count": 15,
   "metadata": {},
   "outputs": [],
   "source": [
    "# Rename value column to water_consumption for clarity\n",
    "merged_data.rename(columns={\"value\": \"water_consumption\"}, inplace=True)"
   ]
  },
  {
   "cell_type": "code",
   "execution_count": 16,
   "metadata": {},
   "outputs": [],
   "source": [
    "# Save cleaned dataset\n",
    "merged_data.to_csv(\"merged_water_crime.csv\", index=False)"
   ]
  },
  {
   "cell_type": "code",
   "execution_count": 17,
   "metadata": {},
   "outputs": [
    {
     "data": {
      "text/html": [
       "<div>\n",
       "<style scoped>\n",
       "    .dataframe tbody tr th:only-of-type {\n",
       "        vertical-align: middle;\n",
       "    }\n",
       "\n",
       "    .dataframe tbody tr th {\n",
       "        vertical-align: top;\n",
       "    }\n",
       "\n",
       "    .dataframe thead th {\n",
       "        text-align: right;\n",
       "    }\n",
       "</style>\n",
       "<table border=\"1\" class=\"dataframe\">\n",
       "  <thead>\n",
       "    <tr style=\"text-align: right;\">\n",
       "      <th></th>\n",
       "      <th>state</th>\n",
       "      <th>year</th>\n",
       "      <th>category</th>\n",
       "      <th>type</th>\n",
       "      <th>crimes</th>\n",
       "      <th>sector</th>\n",
       "      <th>water_consumption</th>\n",
       "    </tr>\n",
       "  </thead>\n",
       "  <tbody>\n",
       "    <tr>\n",
       "      <th>0</th>\n",
       "      <td>Johor</td>\n",
       "      <td>2016</td>\n",
       "      <td>assault</td>\n",
       "      <td>all</td>\n",
       "      <td>5640</td>\n",
       "      <td>domestic</td>\n",
       "      <td>773</td>\n",
       "    </tr>\n",
       "    <tr>\n",
       "      <th>1</th>\n",
       "      <td>Johor</td>\n",
       "      <td>2016</td>\n",
       "      <td>assault</td>\n",
       "      <td>all</td>\n",
       "      <td>5640</td>\n",
       "      <td>nondomestic</td>\n",
       "      <td>513</td>\n",
       "    </tr>\n",
       "    <tr>\n",
       "      <th>2</th>\n",
       "      <td>Johor</td>\n",
       "      <td>2016</td>\n",
       "      <td>assault</td>\n",
       "      <td>causing_injury</td>\n",
       "      <td>1416</td>\n",
       "      <td>domestic</td>\n",
       "      <td>773</td>\n",
       "    </tr>\n",
       "    <tr>\n",
       "      <th>3</th>\n",
       "      <td>Johor</td>\n",
       "      <td>2016</td>\n",
       "      <td>assault</td>\n",
       "      <td>causing_injury</td>\n",
       "      <td>1416</td>\n",
       "      <td>nondomestic</td>\n",
       "      <td>513</td>\n",
       "    </tr>\n",
       "    <tr>\n",
       "      <th>4</th>\n",
       "      <td>Johor</td>\n",
       "      <td>2016</td>\n",
       "      <td>assault</td>\n",
       "      <td>murder</td>\n",
       "      <td>140</td>\n",
       "      <td>domestic</td>\n",
       "      <td>773</td>\n",
       "    </tr>\n",
       "    <tr>\n",
       "      <th>...</th>\n",
       "      <td>...</td>\n",
       "      <td>...</td>\n",
       "      <td>...</td>\n",
       "      <td>...</td>\n",
       "      <td>...</td>\n",
       "      <td>...</td>\n",
       "      <td>...</td>\n",
       "    </tr>\n",
       "    <tr>\n",
       "      <th>2739</th>\n",
       "      <td>Terengganu</td>\n",
       "      <td>2022</td>\n",
       "      <td>property</td>\n",
       "      <td>theft_vehicle_lorry</td>\n",
       "      <td>20</td>\n",
       "      <td>nondomestic</td>\n",
       "      <td>173</td>\n",
       "    </tr>\n",
       "    <tr>\n",
       "      <th>2740</th>\n",
       "      <td>Terengganu</td>\n",
       "      <td>2022</td>\n",
       "      <td>property</td>\n",
       "      <td>theft_vehicle_motorcar</td>\n",
       "      <td>76</td>\n",
       "      <td>domestic</td>\n",
       "      <td>286</td>\n",
       "    </tr>\n",
       "    <tr>\n",
       "      <th>2741</th>\n",
       "      <td>Terengganu</td>\n",
       "      <td>2022</td>\n",
       "      <td>property</td>\n",
       "      <td>theft_vehicle_motorcar</td>\n",
       "      <td>76</td>\n",
       "      <td>nondomestic</td>\n",
       "      <td>173</td>\n",
       "    </tr>\n",
       "    <tr>\n",
       "      <th>2742</th>\n",
       "      <td>Terengganu</td>\n",
       "      <td>2022</td>\n",
       "      <td>property</td>\n",
       "      <td>theft_vehicle_motorcycle</td>\n",
       "      <td>444</td>\n",
       "      <td>domestic</td>\n",
       "      <td>286</td>\n",
       "    </tr>\n",
       "    <tr>\n",
       "      <th>2743</th>\n",
       "      <td>Terengganu</td>\n",
       "      <td>2022</td>\n",
       "      <td>property</td>\n",
       "      <td>theft_vehicle_motorcycle</td>\n",
       "      <td>444</td>\n",
       "      <td>nondomestic</td>\n",
       "      <td>173</td>\n",
       "    </tr>\n",
       "  </tbody>\n",
       "</table>\n",
       "<p>2744 rows × 7 columns</p>\n",
       "</div>"
      ],
      "text/plain": [
       "           state  year  category                      type  crimes   \n",
       "0          Johor  2016   assault                       all    5640  \\\n",
       "1          Johor  2016   assault                       all    5640   \n",
       "2          Johor  2016   assault            causing_injury    1416   \n",
       "3          Johor  2016   assault            causing_injury    1416   \n",
       "4          Johor  2016   assault                    murder     140   \n",
       "...          ...   ...       ...                       ...     ...   \n",
       "2739  Terengganu  2022  property       theft_vehicle_lorry      20   \n",
       "2740  Terengganu  2022  property    theft_vehicle_motorcar      76   \n",
       "2741  Terengganu  2022  property    theft_vehicle_motorcar      76   \n",
       "2742  Terengganu  2022  property  theft_vehicle_motorcycle     444   \n",
       "2743  Terengganu  2022  property  theft_vehicle_motorcycle     444   \n",
       "\n",
       "           sector  water_consumption  \n",
       "0        domestic                773  \n",
       "1     nondomestic                513  \n",
       "2        domestic                773  \n",
       "3     nondomestic                513  \n",
       "4        domestic                773  \n",
       "...           ...                ...  \n",
       "2739  nondomestic                173  \n",
       "2740     domestic                286  \n",
       "2741  nondomestic                173  \n",
       "2742     domestic                286  \n",
       "2743  nondomestic                173  \n",
       "\n",
       "[2744 rows x 7 columns]"
      ]
     },
     "execution_count": 17,
     "metadata": {},
     "output_type": "execute_result"
    }
   ],
   "source": [
    "# Display sample output\n",
    "merged_data"
   ]
  },
  {
   "cell_type": "code",
   "execution_count": 18,
   "metadata": {},
   "outputs": [
    {
     "name": "stdout",
     "output_type": "stream",
     "text": [
      "state                0\n",
      "year                 0\n",
      "category             0\n",
      "type                 0\n",
      "crimes               0\n",
      "sector               0\n",
      "water_consumption    0\n",
      "dtype: int64\n"
     ]
    }
   ],
   "source": [
    "# Check for null values in the merged dataset\n",
    "print(merged_data.isnull().sum())"
   ]
  },
  {
   "cell_type": "markdown",
   "metadata": {},
   "source": [
    "## 10 visualization ideas"
   ]
  },
  {
   "cell_type": "markdown",
   "metadata": {},
   "source": [
    "1. Total Crimes per State Over the Years\n",
    "- Graph Type: Line Chart\n",
    "- Insight: Shows trends in crime rates for each state over time.\n",
    "\n",
    "2. Water Consumption by Sector (Domestic vs. Non-Domestic) Over the Years\n",
    "- Graph Type: Stacked Area Chart\n",
    "- Insight: Helps compare how domestic and non-domestic water consumption has changed over time.\n",
    "\n",
    "3. Crime Categories Breakdown\n",
    "- Graph Type: Pie Chart or Bar Chart\n",
    "- Insight: Highlights which crime category (e.g., assault, property crime) is the most common across all states.\n",
    "\n",
    "4. Water Consumption vs. Crime Rate by State\n",
    "- Graph Type: Scatter Plot\n",
    "- Insight: Shows whether states with higher water consumption tend to have higher or lower crime rates.\n",
    "\n",
    "5. Yearly Crime Trend by Type\n",
    "- Graph Type: Line Chart\n",
    "- Insight: Tracks trends for different crime types over the years.\n",
    "\n",
    "6. Crime Rate vs. Water Consumption by Sector\n",
    "- Graph Type: Box Plot or Heatmap\n",
    "- Insight: Analyzes whether domestic or non-domestic water usage correlates more with crime rates.\n",
    "\n",
    "7. Top 5 States with the Highest Crime Rates\n",
    "- Graph Type: Horizontal Bar Chart\n",
    "- Insight: Ranks states by the total number of crimes over all years.\n",
    "\n",
    "8. Crime Type Distribution Across States\n",
    "- Graph Type: Stacked Bar Chart\n",
    "- Insight: Compares how different crime types are distributed in each state.\n",
    "\n",
    "9. Correlation Between Water Consumption and Property Crimes\n",
    "- Graph Type: Scatter Plot with Regression Line\n",
    "- Insight: Tests if higher water consumption is linked to more property crimes.\n",
    "\n",
    "10. Yearly Water Consumption and Crime Comparison\n",
    "- Graph Type: Dual-Axis Line Chart\n",
    "- Insight: Helps visualize if changes in water consumption over time align with changes in crime rates."
   ]
  },
  {
   "cell_type": "markdown",
   "metadata": {},
   "source": [
    "## Generate Latitude & Longitude for Each State"
   ]
  },
  {
   "cell_type": "code",
   "execution_count": 21,
   "metadata": {},
   "outputs": [],
   "source": [
    "# Initialize the geocoder\n",
    "geolocator = Nominatim(user_agent=\"geoapi\")\n",
    "\n",
    "# List of states from your dataset\n",
    "states = [\"Johor\", \"Kedah\", \"Kelantan\", \"Melaka\", \"Negeri Sembilan\", \"Pahang\", \n",
    "          \"Perak\", \"Perlis\", \"Pulau Pinang\", \"Sabah\", \"Sarawak\", \"Selangor\", \n",
    "          \"Terengganu\", \"Wilayah Persekutuan Kuala Lumpur\"]\n",
    "\n",
    "# Function to get latitude and longitude\n",
    "def get_lat_lon(state):\n",
    "    try:\n",
    "        location = geolocator.geocode(f\"{state}, Malaysia\")  # Adjust for your country\n",
    "        if location:\n",
    "            return location.latitude, location.longitude\n",
    "    except:\n",
    "        return None, None\n",
    "    return None, None"
   ]
  },
  {
   "cell_type": "code",
   "execution_count": 25,
   "metadata": {},
   "outputs": [],
   "source": [
    "# Create a DataFrame\n",
    "data = []\n",
    "for state in states:\n",
    "    lat, lon = get_lat_lon(state)\n",
    "    data.append([state, lat, lon])\n",
    "    sleep(1)  # To prevent API rate limits\n",
    "\n",
    "df = pd.DataFrame(data, columns=[\"state\", \"latitude\", \"longitude\"])"
   ]
  },
  {
   "cell_type": "code",
   "execution_count": 26,
   "metadata": {},
   "outputs": [
    {
     "name": "stdout",
     "output_type": "stream",
     "text": [
      "                               state  latitude   longitude\n",
      "0                              Johor  2.022882  103.311456\n",
      "1                              Kedah  5.809826  100.671504\n",
      "2                           Kelantan  5.402130  102.063597\n",
      "3                             Melaka  2.329374  102.288096\n",
      "4                    Negeri Sembilan  2.783190  102.192532\n",
      "5                             Pahang  3.616882  102.599455\n",
      "6                              Perak  4.812181  100.979791\n",
      "7                             Perlis  6.486839  100.257762\n",
      "8                       Pulau Pinang  5.406501  100.255908\n",
      "9                              Sabah  5.425736  117.032639\n",
      "10                           Sarawak  2.502385  112.954728\n",
      "11                          Selangor  3.208330  101.304146\n",
      "12                        Terengganu  4.863074  102.994930\n",
      "13  Wilayah Persekutuan Kuala Lumpur  3.152659  101.702220\n"
     ]
    }
   ],
   "source": [
    "# Save to CSV\n",
    "df.to_csv(\"state_coordinates.csv\", index=False)\n",
    "\n",
    "# Display the results\n",
    "print(df)"
   ]
  },
  {
   "cell_type": "code",
   "execution_count": 30,
   "metadata": {},
   "outputs": [],
   "source": [
    "merged_data_coordinates = pd.read_csv(\"merged_water_crime.csv\")\n",
    "coordinates = pd.read_csv(\"state_coordinates.csv\")\n",
    "\n",
    "# Merge datasets on the \"State\" column\n",
    "merged_data_coordinates = merged_data_coordinates.merge(coordinates, on=\"state\", how=\"left\")\n",
    "\n",
    "# Save the updated dataset\n",
    "merged_data_coordinates.to_csv(\"dataset_with_coordinates.csv\", index=False)"
   ]
  },
  {
   "cell_type": "code",
   "execution_count": 31,
   "metadata": {},
   "outputs": [
    {
     "data": {
      "text/html": [
       "<div>\n",
       "<style scoped>\n",
       "    .dataframe tbody tr th:only-of-type {\n",
       "        vertical-align: middle;\n",
       "    }\n",
       "\n",
       "    .dataframe tbody tr th {\n",
       "        vertical-align: top;\n",
       "    }\n",
       "\n",
       "    .dataframe thead th {\n",
       "        text-align: right;\n",
       "    }\n",
       "</style>\n",
       "<table border=\"1\" class=\"dataframe\">\n",
       "  <thead>\n",
       "    <tr style=\"text-align: right;\">\n",
       "      <th></th>\n",
       "      <th>state</th>\n",
       "      <th>year</th>\n",
       "      <th>category</th>\n",
       "      <th>type</th>\n",
       "      <th>crimes</th>\n",
       "      <th>sector</th>\n",
       "      <th>water_consumption</th>\n",
       "      <th>latitude</th>\n",
       "      <th>longitude</th>\n",
       "    </tr>\n",
       "  </thead>\n",
       "  <tbody>\n",
       "    <tr>\n",
       "      <th>0</th>\n",
       "      <td>Johor</td>\n",
       "      <td>2016</td>\n",
       "      <td>assault</td>\n",
       "      <td>all</td>\n",
       "      <td>5640</td>\n",
       "      <td>domestic</td>\n",
       "      <td>773</td>\n",
       "      <td>2.022882</td>\n",
       "      <td>103.311456</td>\n",
       "    </tr>\n",
       "    <tr>\n",
       "      <th>1</th>\n",
       "      <td>Johor</td>\n",
       "      <td>2016</td>\n",
       "      <td>assault</td>\n",
       "      <td>all</td>\n",
       "      <td>5640</td>\n",
       "      <td>nondomestic</td>\n",
       "      <td>513</td>\n",
       "      <td>2.022882</td>\n",
       "      <td>103.311456</td>\n",
       "    </tr>\n",
       "    <tr>\n",
       "      <th>2</th>\n",
       "      <td>Johor</td>\n",
       "      <td>2016</td>\n",
       "      <td>assault</td>\n",
       "      <td>causing_injury</td>\n",
       "      <td>1416</td>\n",
       "      <td>domestic</td>\n",
       "      <td>773</td>\n",
       "      <td>2.022882</td>\n",
       "      <td>103.311456</td>\n",
       "    </tr>\n",
       "    <tr>\n",
       "      <th>3</th>\n",
       "      <td>Johor</td>\n",
       "      <td>2016</td>\n",
       "      <td>assault</td>\n",
       "      <td>causing_injury</td>\n",
       "      <td>1416</td>\n",
       "      <td>nondomestic</td>\n",
       "      <td>513</td>\n",
       "      <td>2.022882</td>\n",
       "      <td>103.311456</td>\n",
       "    </tr>\n",
       "    <tr>\n",
       "      <th>4</th>\n",
       "      <td>Johor</td>\n",
       "      <td>2016</td>\n",
       "      <td>assault</td>\n",
       "      <td>murder</td>\n",
       "      <td>140</td>\n",
       "      <td>domestic</td>\n",
       "      <td>773</td>\n",
       "      <td>2.022882</td>\n",
       "      <td>103.311456</td>\n",
       "    </tr>\n",
       "    <tr>\n",
       "      <th>...</th>\n",
       "      <td>...</td>\n",
       "      <td>...</td>\n",
       "      <td>...</td>\n",
       "      <td>...</td>\n",
       "      <td>...</td>\n",
       "      <td>...</td>\n",
       "      <td>...</td>\n",
       "      <td>...</td>\n",
       "      <td>...</td>\n",
       "    </tr>\n",
       "    <tr>\n",
       "      <th>2739</th>\n",
       "      <td>Terengganu</td>\n",
       "      <td>2022</td>\n",
       "      <td>property</td>\n",
       "      <td>theft_vehicle_lorry</td>\n",
       "      <td>20</td>\n",
       "      <td>nondomestic</td>\n",
       "      <td>173</td>\n",
       "      <td>4.863074</td>\n",
       "      <td>102.994930</td>\n",
       "    </tr>\n",
       "    <tr>\n",
       "      <th>2740</th>\n",
       "      <td>Terengganu</td>\n",
       "      <td>2022</td>\n",
       "      <td>property</td>\n",
       "      <td>theft_vehicle_motorcar</td>\n",
       "      <td>76</td>\n",
       "      <td>domestic</td>\n",
       "      <td>286</td>\n",
       "      <td>4.863074</td>\n",
       "      <td>102.994930</td>\n",
       "    </tr>\n",
       "    <tr>\n",
       "      <th>2741</th>\n",
       "      <td>Terengganu</td>\n",
       "      <td>2022</td>\n",
       "      <td>property</td>\n",
       "      <td>theft_vehicle_motorcar</td>\n",
       "      <td>76</td>\n",
       "      <td>nondomestic</td>\n",
       "      <td>173</td>\n",
       "      <td>4.863074</td>\n",
       "      <td>102.994930</td>\n",
       "    </tr>\n",
       "    <tr>\n",
       "      <th>2742</th>\n",
       "      <td>Terengganu</td>\n",
       "      <td>2022</td>\n",
       "      <td>property</td>\n",
       "      <td>theft_vehicle_motorcycle</td>\n",
       "      <td>444</td>\n",
       "      <td>domestic</td>\n",
       "      <td>286</td>\n",
       "      <td>4.863074</td>\n",
       "      <td>102.994930</td>\n",
       "    </tr>\n",
       "    <tr>\n",
       "      <th>2743</th>\n",
       "      <td>Terengganu</td>\n",
       "      <td>2022</td>\n",
       "      <td>property</td>\n",
       "      <td>theft_vehicle_motorcycle</td>\n",
       "      <td>444</td>\n",
       "      <td>nondomestic</td>\n",
       "      <td>173</td>\n",
       "      <td>4.863074</td>\n",
       "      <td>102.994930</td>\n",
       "    </tr>\n",
       "  </tbody>\n",
       "</table>\n",
       "<p>2744 rows × 9 columns</p>\n",
       "</div>"
      ],
      "text/plain": [
       "           state  year  category                      type  crimes   \n",
       "0          Johor  2016   assault                       all    5640  \\\n",
       "1          Johor  2016   assault                       all    5640   \n",
       "2          Johor  2016   assault            causing_injury    1416   \n",
       "3          Johor  2016   assault            causing_injury    1416   \n",
       "4          Johor  2016   assault                    murder     140   \n",
       "...          ...   ...       ...                       ...     ...   \n",
       "2739  Terengganu  2022  property       theft_vehicle_lorry      20   \n",
       "2740  Terengganu  2022  property    theft_vehicle_motorcar      76   \n",
       "2741  Terengganu  2022  property    theft_vehicle_motorcar      76   \n",
       "2742  Terengganu  2022  property  theft_vehicle_motorcycle     444   \n",
       "2743  Terengganu  2022  property  theft_vehicle_motorcycle     444   \n",
       "\n",
       "           sector  water_consumption  latitude   longitude  \n",
       "0        domestic                773  2.022882  103.311456  \n",
       "1     nondomestic                513  2.022882  103.311456  \n",
       "2        domestic                773  2.022882  103.311456  \n",
       "3     nondomestic                513  2.022882  103.311456  \n",
       "4        domestic                773  2.022882  103.311456  \n",
       "...           ...                ...       ...         ...  \n",
       "2739  nondomestic                173  4.863074  102.994930  \n",
       "2740     domestic                286  4.863074  102.994930  \n",
       "2741  nondomestic                173  4.863074  102.994930  \n",
       "2742     domestic                286  4.863074  102.994930  \n",
       "2743  nondomestic                173  4.863074  102.994930  \n",
       "\n",
       "[2744 rows x 9 columns]"
      ]
     },
     "execution_count": 31,
     "metadata": {},
     "output_type": "execute_result"
    }
   ],
   "source": [
    "# Display the first few rows of the updated dataset to verify the merge\n",
    "merged_data_coordinates"
   ]
  },
  {
   "cell_type": "code",
   "execution_count": 32,
   "metadata": {},
   "outputs": [
    {
     "name": "stdout",
     "output_type": "stream",
     "text": [
      "state                  0\n",
      "year                   0\n",
      "category               0\n",
      "type                   0\n",
      "crimes                 0\n",
      "sector                 0\n",
      "water_consumption      0\n",
      "latitude             196\n",
      "longitude            196\n",
      "dtype: int64\n"
     ]
    }
   ],
   "source": [
    "# Check for null values in the merged dataset\n",
    "print(merged_data_coordinates.isnull().sum())"
   ]
  },
  {
   "cell_type": "code",
   "execution_count": 34,
   "metadata": {},
   "outputs": [
    {
     "name": "stdout",
     "output_type": "stream",
     "text": [
      "        state  latitude  longitude\n",
      "588  Malaysia       NaN        NaN\n",
      "589  Malaysia       NaN        NaN\n",
      "590  Malaysia       NaN        NaN\n",
      "591  Malaysia       NaN        NaN\n",
      "592  Malaysia       NaN        NaN\n",
      "..        ...       ...        ...\n",
      "779  Malaysia       NaN        NaN\n",
      "780  Malaysia       NaN        NaN\n",
      "781  Malaysia       NaN        NaN\n",
      "782  Malaysia       NaN        NaN\n",
      "783  Malaysia       NaN        NaN\n",
      "\n",
      "[196 rows x 3 columns]\n"
     ]
    }
   ],
   "source": [
    "# Check for rows where 'Latitude' or 'Longitude' is null\n",
    "null_states = merged_data_coordinates[merged_data_coordinates['latitude'].isnull() | merged_data_coordinates['longitude'].isnull()]\n",
    "\n",
    "# Print the states with null values\n",
    "print(null_states[['state', 'latitude', 'longitude']])"
   ]
  },
  {
   "cell_type": "code",
   "execution_count": 36,
   "metadata": {},
   "outputs": [
    {
     "name": "stdout",
     "output_type": "stream",
     "text": [
      "           state  year  category                      type  crimes   \n",
      "0          Johor  2016   assault                       all    5640  \\\n",
      "1          Johor  2016   assault                       all    5640   \n",
      "2          Johor  2016   assault            causing_injury    1416   \n",
      "3          Johor  2016   assault            causing_injury    1416   \n",
      "4          Johor  2016   assault                    murder     140   \n",
      "...          ...   ...       ...                       ...     ...   \n",
      "2739  Terengganu  2022  property       theft_vehicle_lorry      20   \n",
      "2740  Terengganu  2022  property    theft_vehicle_motorcar      76   \n",
      "2741  Terengganu  2022  property    theft_vehicle_motorcar      76   \n",
      "2742  Terengganu  2022  property  theft_vehicle_motorcycle     444   \n",
      "2743  Terengganu  2022  property  theft_vehicle_motorcycle     444   \n",
      "\n",
      "           sector  water_consumption  latitude   longitude  \n",
      "0        domestic                773  2.022882  103.311456  \n",
      "1     nondomestic                513  2.022882  103.311456  \n",
      "2        domestic                773  2.022882  103.311456  \n",
      "3     nondomestic                513  2.022882  103.311456  \n",
      "4        domestic                773  2.022882  103.311456  \n",
      "...           ...                ...       ...         ...  \n",
      "2739  nondomestic                173  4.863074  102.994930  \n",
      "2740     domestic                286  4.863074  102.994930  \n",
      "2741  nondomestic                173  4.863074  102.994930  \n",
      "2742     domestic                286  4.863074  102.994930  \n",
      "2743  nondomestic                173  4.863074  102.994930  \n",
      "\n",
      "[2548 rows x 9 columns]\n"
     ]
    }
   ],
   "source": [
    "# Drop rows where the 'State' is 'Malaysia'\n",
    "merged_data_coordinates_cleaned = merged_data_coordinates[merged_data_coordinates['state'] != 'Malaysia']\n",
    "\n",
    "# Print the cleaned DataFrame (optional)\n",
    "print(merged_data_coordinates_cleaned)\n",
    "\n",
    "# Optionally save the cleaned data to a new CSV\n",
    "merged_data_coordinates_cleaned.to_csv(\"cleaned_dataset.csv\", index=False)"
   ]
  },
  {
   "cell_type": "code",
   "execution_count": 38,
   "metadata": {},
   "outputs": [
    {
     "name": "stdout",
     "output_type": "stream",
     "text": [
      "state                0\n",
      "year                 0\n",
      "category             0\n",
      "type                 0\n",
      "crimes               0\n",
      "sector               0\n",
      "water_consumption    0\n",
      "latitude             0\n",
      "longitude            0\n",
      "dtype: int64\n"
     ]
    }
   ],
   "source": [
    "# Recheck for null values in the merged dataset\n",
    "print(merged_data_coordinates_cleaned.isnull().sum())"
   ]
  },
  {
   "cell_type": "markdown",
   "metadata": {},
   "source": [
    "# Eh voila! Let's plot our first map using geopspatial methods"
   ]
  },
  {
   "cell_type": "code",
   "execution_count": 7,
   "metadata": {},
   "outputs": [],
   "source": [
    "import folium\n",
    "from folium.plugins import HeatMap\n",
    "import pandas as pd"
   ]
  },
  {
   "cell_type": "code",
   "execution_count": 8,
   "metadata": {},
   "outputs": [],
   "source": [
    "# Load dataset\n",
    "df = pd.read_csv(\"cleaned_dataset.csv\")\n",
    "\n",
    "# Define \"Value\" columns for each heatmap\n",
    "df[\"Crime_Value\"] = df[\"crimes\"]\n",
    "df[\"Water_Value\"] = df[\"water_consumption\"]\n",
    "df[\"Hybrid_Value\"] = df[\"crimes\"] + (df[\"water_consumption\"] / 100)  # Normalize water usage"
   ]
  },
  {
   "cell_type": "code",
   "execution_count": 9,
   "metadata": {},
   "outputs": [],
   "source": [
    "# Function to create heatmap\n",
    "def create_heatmap(df, value_column, title, filename):\n",
    "    # Initialize map at the mean location\n",
    "    map_center = [df['latitude'].mean(), df['longitude'].mean()]\n",
    "    m = folium.Map(location=map_center, zoom_start=6)\n",
    "\n",
    "    # Prepare heatmap data (lat, lon, value)\n",
    "    heat_data = df[['latitude', 'longitude', value_column]].values.tolist()\n",
    "\n",
    "    # Add heatmap layer\n",
    "    HeatMap(heat_data, radius=15, blur=10, max_zoom=10).add_to(m)\n",
    "\n",
    "    # Save and display map\n",
    "    m.save(filename)\n",
    "    print(f\"{title} saved as {filename}\")"
   ]
  },
  {
   "cell_type": "markdown",
   "metadata": {},
   "source": [
    "## Generate each heatmap"
   ]
  },
  {
   "cell_type": "code",
   "execution_count": 10,
   "metadata": {},
   "outputs": [
    {
     "name": "stdout",
     "output_type": "stream",
     "text": [
      "Crime Heatmap saved as crime_heatmap.html\n"
     ]
    }
   ],
   "source": [
    "# Generate each heatmap for crime\n",
    "create_heatmap(df, \"Crime_Value\", \"Crime Heatmap\", \"crime_heatmap.html\")"
   ]
  },
  {
   "cell_type": "code",
   "execution_count": 11,
   "metadata": {},
   "outputs": [
    {
     "name": "stdout",
     "output_type": "stream",
     "text": [
      "Water Consumption Heatmap saved as water_heatmap.html\n"
     ]
    }
   ],
   "source": [
    "# Generate each heatmap for water consumption\n",
    "create_heatmap(df, \"Water_Value\", \"Water Consumption Heatmap\", \"water_heatmap.html\")"
   ]
  },
  {
   "cell_type": "code",
   "execution_count": 12,
   "metadata": {},
   "outputs": [
    {
     "name": "stdout",
     "output_type": "stream",
     "text": [
      "Hybrid Crime & Water Heatmap saved as hybrid_heatmap.html\n"
     ]
    }
   ],
   "source": [
    "# Generate each heatmap for hybrid\n",
    "create_heatmap(df, \"Hybrid_Value\", \"Hybrid Crime & Water Heatmap\", \"hybrid_heatmap.html\")"
   ]
  }
 ],
 "metadata": {
  "kernelspec": {
   "display_name": "Python 3",
   "language": "python",
   "name": "python3"
  },
  "language_info": {
   "codemirror_mode": {
    "name": "ipython",
    "version": 3
   },
   "file_extension": ".py",
   "mimetype": "text/x-python",
   "name": "python",
   "nbconvert_exporter": "python",
   "pygments_lexer": "ipython3",
   "version": "3.11.4"
  }
 },
 "nbformat": 4,
 "nbformat_minor": 2
}
